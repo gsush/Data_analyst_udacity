{
  "nbformat": 4,
  "nbformat_minor": 0,
  "metadata": {
    "colab": {
      "name": "Average_classroom_time.ipynb",
      "provenance": [],
      "authorship_tag": "ABX9TyMtMTeKej40/gRay+w0O4bd",
      "include_colab_link": true
    },
    "kernelspec": {
      "name": "python3",
      "display_name": "Python 3"
    }
  },
  "cells": [
    {
      "cell_type": "markdown",
      "metadata": {
        "id": "view-in-github",
        "colab_type": "text"
      },
      "source": [
        "<a href=\"https://colab.research.google.com/github/gsush/Data_analyst_udacity/blob/main/Average_classroom_time.ipynb\" target=\"_parent\"><img src=\"https://colab.research.google.com/assets/colab-badge.svg\" alt=\"Open In Colab\"/></a>"
      ]
    },
    {
      "cell_type": "code",
      "metadata": {
        "id": "80qOZVuDtBeE"
      },
      "source": [
        "import numpy as np\n",
        "import pandas as pd\n",
        "import matplotlib.pyplot as plt\n",
        "%matplotlib inline"
      ],
      "execution_count": 1,
      "outputs": []
    },
    {
      "cell_type": "code",
      "metadata": {
        "id": "Hjoo-K7Jtptr",
        "outputId": "dafe0b0a-22b9-458a-9c1a-c4c04b545e7a",
        "colab": {
          "base_uri": "https://localhost:8080/",
          "height": 204
        }
      },
      "source": [
        "url = 'https://raw.githubusercontent.com/MarwaQabeel/Udacity-Data-Analyst-Nanodegree/master/Case%20Study-AB%20Test/Data/classroom_actions.csv'\n",
        "\n",
        "df = pd.read_csv(url)\n",
        "df.head()"
      ],
      "execution_count": 3,
      "outputs": [
        {
          "output_type": "execute_result",
          "data": {
            "text/html": [
              "<div>\n",
              "<style scoped>\n",
              "    .dataframe tbody tr th:only-of-type {\n",
              "        vertical-align: middle;\n",
              "    }\n",
              "\n",
              "    .dataframe tbody tr th {\n",
              "        vertical-align: top;\n",
              "    }\n",
              "\n",
              "    .dataframe thead th {\n",
              "        text-align: right;\n",
              "    }\n",
              "</style>\n",
              "<table border=\"1\" class=\"dataframe\">\n",
              "  <thead>\n",
              "    <tr style=\"text-align: right;\">\n",
              "      <th></th>\n",
              "      <th>timestamp</th>\n",
              "      <th>id</th>\n",
              "      <th>group</th>\n",
              "      <th>total_days</th>\n",
              "      <th>completed</th>\n",
              "    </tr>\n",
              "  </thead>\n",
              "  <tbody>\n",
              "    <tr>\n",
              "      <th>0</th>\n",
              "      <td>2015-08-10 17:06:01.032740</td>\n",
              "      <td>610019</td>\n",
              "      <td>experiment</td>\n",
              "      <td>97</td>\n",
              "      <td>True</td>\n",
              "    </tr>\n",
              "    <tr>\n",
              "      <th>1</th>\n",
              "      <td>2015-08-10 17:15:28.950975</td>\n",
              "      <td>690224</td>\n",
              "      <td>control</td>\n",
              "      <td>75</td>\n",
              "      <td>False</td>\n",
              "    </tr>\n",
              "    <tr>\n",
              "      <th>2</th>\n",
              "      <td>2015-08-10 17:34:40.920384</td>\n",
              "      <td>564994</td>\n",
              "      <td>experiment</td>\n",
              "      <td>128</td>\n",
              "      <td>True</td>\n",
              "    </tr>\n",
              "    <tr>\n",
              "      <th>3</th>\n",
              "      <td>2015-08-10 17:50:39.847374</td>\n",
              "      <td>849588</td>\n",
              "      <td>experiment</td>\n",
              "      <td>66</td>\n",
              "      <td>False</td>\n",
              "    </tr>\n",
              "    <tr>\n",
              "      <th>4</th>\n",
              "      <td>2015-08-10 19:10:40.650599</td>\n",
              "      <td>849826</td>\n",
              "      <td>experiment</td>\n",
              "      <td>34</td>\n",
              "      <td>False</td>\n",
              "    </tr>\n",
              "  </tbody>\n",
              "</table>\n",
              "</div>"
            ],
            "text/plain": [
              "                    timestamp      id       group  total_days  completed\n",
              "0  2015-08-10 17:06:01.032740  610019  experiment          97       True\n",
              "1  2015-08-10 17:15:28.950975  690224     control          75      False\n",
              "2  2015-08-10 17:34:40.920384  564994  experiment         128       True\n",
              "3  2015-08-10 17:50:39.847374  849588  experiment          66      False\n",
              "4  2015-08-10 19:10:40.650599  849826  experiment          34      False"
            ]
          },
          "metadata": {
            "tags": []
          },
          "execution_count": 3
        }
      ]
    },
    {
      "cell_type": "code",
      "metadata": {
        "id": "t--eEDYIutZC",
        "outputId": "0b47d879-9403-4ba9-ae49-66a27c583c41",
        "colab": {
          "base_uri": "https://localhost:8080/"
        }
      },
      "source": [
        "# get the average classroom time for control group\n",
        "control_mean = df.query('group == \"control\"').total_days.mean()\n",
        "\n",
        "# get the average classroom time for experiment group\n",
        "experiment_mean = df.query('group == \"experiment\"').total_days.mean()\n",
        "\n",
        "# display average classroom time for each group\n",
        "control_mean, experiment_mean"
      ],
      "execution_count": 4,
      "outputs": [
        {
          "output_type": "execute_result",
          "data": {
            "text/plain": [
              "(73.36899038461539, 74.6715935334873)"
            ]
          },
          "metadata": {
            "tags": []
          },
          "execution_count": 4
        }
      ]
    },
    {
      "cell_type": "code",
      "metadata": {
        "id": "a0bFEdh6uzK9",
        "outputId": "e26b6f2c-846d-4aa7-bc96-0fda4ae56883",
        "colab": {
          "base_uri": "https://localhost:8080/"
        }
      },
      "source": [
        "# compute observed difference in classroom time\n",
        "obs_diff = experiment_mean - control_mean\n",
        "\n",
        "# display observed difference\n",
        "obs_diff"
      ],
      "execution_count": 5,
      "outputs": [
        {
          "output_type": "execute_result",
          "data": {
            "text/plain": [
              "1.3026031488719099"
            ]
          },
          "metadata": {
            "tags": []
          },
          "execution_count": 5
        }
      ]
    },
    {
      "cell_type": "code",
      "metadata": {
        "id": "jUFt_6Mzu5tz"
      },
      "source": [
        "# create sampling distribution of difference in average classroom times\n",
        "# with boostrapping\n",
        "diffs = []\n",
        "size = df.shape[0]\n",
        "for _ in range(10000):\n",
        "    b_samp = df.sample(size, replace=True)\n",
        "    control_mean = b_samp.query('group == \"control\"').total_days.mean()\n",
        "    experiment_mean = b_samp.query('group == \"experiment\"').total_days.mean()\n",
        "    diffs.append(experiment_mean - control_mean)"
      ],
      "execution_count": 6,
      "outputs": []
    },
    {
      "cell_type": "code",
      "metadata": {
        "id": "z-bxyVIOvRKH"
      },
      "source": [
        "# convert to numpy array\n",
        "diffs = np.array(diffs)"
      ],
      "execution_count": 7,
      "outputs": []
    },
    {
      "cell_type": "code",
      "metadata": {
        "id": "MEXJOMAbvULk",
        "outputId": "ee68e475-efcc-40c9-da67-37d200cfd4ba",
        "colab": {
          "base_uri": "https://localhost:8080/",
          "height": 265
        }
      },
      "source": [
        "# plot sampling distribution\n",
        "plt.hist(diffs);"
      ],
      "execution_count": 8,
      "outputs": [
        {
          "output_type": "display_data",
          "data": {
            "image/png": "[encoded data removed]",
            "text/plain": [
              "<Figure size 432x288 with 1 Axes>"
            ]
          },
          "metadata": {
            "tags": [],
            "needs_background": "light"
          }
        }
      ]
    },
    {
      "cell_type": "code",
      "metadata": {
        "id": "Z-8aQMKDvX11"
      },
      "source": [
        "# simulate distribution under the null hypothesis\n",
        "null_vals = np.random.normal(0, diffs.std(), diffs.size)"
      ],
      "execution_count": 10,
      "outputs": []
    },
    {
      "cell_type": "code",
      "metadata": {
        "id": "TQt2sstyvf6q",
        "outputId": "42a6a8f7-6f6e-4ecb-82df-d8025591a7ee",
        "colab": {
          "base_uri": "https://localhost:8080/",
          "height": 282
        }
      },
      "source": [
        "# plot null distribution\n",
        "plt.hist(null_vals)\n",
        "\n",
        "# plot line for observed statistic\n",
        "plt.axvline(obs_diff, c='red')"
      ],
      "execution_count": 11,
      "outputs": [
        {
          "output_type": "execute_result",
          "data": {
            "text/plain": [
              "<matplotlib.lines.Line2D at 0x7f41e55ff588>"
            ]
          },
          "metadata": {
            "tags": []
          },
          "execution_count": 11
        },
        {
          "output_type": "display_data",
          "data": {
            "image/png": "[encoded data removed]",
            "text/plain": [
              "<Figure size 432x288 with 1 Axes>"
            ]
          },
          "metadata": {
            "tags": [],
            "needs_background": "light"
          }
        }
      ]
    },
    {
      "cell_type": "code",
      "metadata": {
        "id": "YWY0dNlvvhfD",
        "outputId": "86ad8697-caef-43d7-806a-99919a908795",
        "colab": {
          "base_uri": "https://localhost:8080/"
        }
      },
      "source": [
        "# compute p value\n",
        "(null_vals > obs_diff).mean()"
      ],
      "execution_count": 12,
      "outputs": [
        {
          "output_type": "execute_result",
          "data": {
            "text/plain": [
              "0.0328"
            ]
          },
          "metadata": {
            "tags": []
          },
          "execution_count": 12
        }
      ]
    }
  ]
}