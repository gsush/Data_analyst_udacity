{
  "nbformat": 4,
  "nbformat_minor": 0,
  "metadata": {
    "colab": {
      "name": "enrollment_rate.ipynb",
      "provenance": [],
      "authorship_tag": "ABX9TyNH2sdzwSw4UAJZvZv2CXJV",
      "include_colab_link": true
    },
    "kernelspec": {
      "name": "python3",
      "display_name": "Python 3"
    }
  },
  "cells": [
    {
      "cell_type": "markdown",
      "metadata": {
        "id": "view-in-github",
        "colab_type": "text"
      },
      "source": [
        "<a href=\"https://colab.research.google.com/github/gsush/Data_analyst_udacity/blob/main/enrollment_rate.ipynb\" target=\"_parent\"><img src=\"https://colab.research.google.com/assets/colab-badge.svg\" alt=\"Open In Colab\"/></a>"
      ]
    },
    {
      "cell_type": "code",
      "metadata": {
        "id": "6jeQLKBf0HEH"
      },
      "source": [
        "import numpy as np\n",
        "import pandas as pd\n",
        "import matplotlib.pyplot as plt\n",
        "% matplotlib inline\n",
        "\n",
        "np.random.seed(42)"
      ],
      "execution_count": 1,
      "outputs": []
    },
    {
      "cell_type": "code",
      "metadata": {
        "id": "FM4j4ULA0M7u",
        "outputId": "a3a3267c-0287-418d-ad21-6d82e99a4f74",
        "colab": {
          "base_uri": "https://localhost:8080/",
          "height": 204
        }
      },
      "source": [
        "url = 'https://raw.githubusercontent.com/MarwaQabeel/Udacity-Data-Analyst-Nanodegree/master/Case%20Study-AB%20Test/Data/course_page_actions.csv'\n",
        "df = pd.read_csv(url)\n",
        "df.head()"
      ],
      "execution_count": 2,
      "outputs": [
        {
          "output_type": "execute_result",
          "data": {
            "text/html": [
              "<div>\n",
              "<style scoped>\n",
              "    .dataframe tbody tr th:only-of-type {\n",
              "        vertical-align: middle;\n",
              "    }\n",
              "\n",
              "    .dataframe tbody tr th {\n",
              "        vertical-align: top;\n",
              "    }\n",
              "\n",
              "    .dataframe thead th {\n",
              "        text-align: right;\n",
              "    }\n",
              "</style>\n",
              "<table border=\"1\" class=\"dataframe\">\n",
              "  <thead>\n",
              "    <tr style=\"text-align: right;\">\n",
              "      <th></th>\n",
              "      <th>timestamp</th>\n",
              "      <th>id</th>\n",
              "      <th>group</th>\n",
              "      <th>action</th>\n",
              "      <th>duration</th>\n",
              "    </tr>\n",
              "  </thead>\n",
              "  <tbody>\n",
              "    <tr>\n",
              "      <th>0</th>\n",
              "      <td>2016-09-24 17:14:52.012145</td>\n",
              "      <td>261869</td>\n",
              "      <td>experiment</td>\n",
              "      <td>view</td>\n",
              "      <td>130.545004</td>\n",
              "    </tr>\n",
              "    <tr>\n",
              "      <th>1</th>\n",
              "      <td>2016-09-24 18:45:09.645857</td>\n",
              "      <td>226546</td>\n",
              "      <td>experiment</td>\n",
              "      <td>view</td>\n",
              "      <td>159.862440</td>\n",
              "    </tr>\n",
              "    <tr>\n",
              "      <th>2</th>\n",
              "      <td>2016-09-24 19:16:21.002533</td>\n",
              "      <td>286353</td>\n",
              "      <td>experiment</td>\n",
              "      <td>view</td>\n",
              "      <td>79.349315</td>\n",
              "    </tr>\n",
              "    <tr>\n",
              "      <th>3</th>\n",
              "      <td>2016-09-24 19:43:06.927785</td>\n",
              "      <td>842279</td>\n",
              "      <td>experiment</td>\n",
              "      <td>view</td>\n",
              "      <td>55.536126</td>\n",
              "    </tr>\n",
              "    <tr>\n",
              "      <th>4</th>\n",
              "      <td>2016-09-24 21:08:22.790333</td>\n",
              "      <td>781883</td>\n",
              "      <td>experiment</td>\n",
              "      <td>view</td>\n",
              "      <td>204.322437</td>\n",
              "    </tr>\n",
              "  </tbody>\n",
              "</table>\n",
              "</div>"
            ],
            "text/plain": [
              "                    timestamp      id       group action    duration\n",
              "0  2016-09-24 17:14:52.012145  261869  experiment   view  130.545004\n",
              "1  2016-09-24 18:45:09.645857  226546  experiment   view  159.862440\n",
              "2  2016-09-24 19:16:21.002533  286353  experiment   view   79.349315\n",
              "3  2016-09-24 19:43:06.927785  842279  experiment   view   55.536126\n",
              "4  2016-09-24 21:08:22.790333  781883  experiment   view  204.322437"
            ]
          },
          "metadata": {
            "tags": []
          },
          "execution_count": 2
        }
      ]
    },
    {
      "cell_type": "code",
      "metadata": {
        "id": "DB8dvH370XJW",
        "outputId": "87c7ef27-62ae-4922-99c4-1e9cbea934c6",
        "colab": {
          "base_uri": "https://localhost:8080/"
        }
      },
      "source": [
        "# Get dataframe with all records from control group\n",
        "control_df = df.query('group == \"control\"')\n",
        "\n",
        "# Compute click through rate for control group\n",
        "control_ctr = control_df.query('action == \"enroll\"').id.nunique() / control_df.query('action == \"view\"').id.nunique()\n",
        "\n",
        "# Display click through rate\n",
        "control_ctr"
      ],
      "execution_count": 3,
      "outputs": [
        {
          "output_type": "execute_result",
          "data": {
            "text/plain": [
              "0.2364438839848676"
            ]
          },
          "metadata": {
            "tags": []
          },
          "execution_count": 3
        }
      ]
    },
    {
      "cell_type": "code",
      "metadata": {
        "id": "TS4vXhGW0b0b",
        "outputId": "5b3df0b9-7f9a-491e-fbe9-7085881bb1de",
        "colab": {
          "base_uri": "https://localhost:8080/"
        }
      },
      "source": [
        "# Get dataframe with all records from experiment group\n",
        "experiment_df = df.query('group == \"experiment\"')\n",
        "\n",
        "# Compute click through rate for experiment group\n",
        "experiment_ctr = experiment_df.query('action == \"enroll\"').id.nunique() / experiment_df.query('action == \"view\"').id.nunique()\n",
        "\n",
        "# Display click through rate\n",
        "experiment_ctr"
      ],
      "execution_count": 4,
      "outputs": [
        {
          "output_type": "execute_result",
          "data": {
            "text/plain": [
              "0.2668693009118541"
            ]
          },
          "metadata": {
            "tags": []
          },
          "execution_count": 4
        }
      ]
    },
    {
      "cell_type": "code",
      "metadata": {
        "id": "ToYoWElC0e0H",
        "outputId": "f90fa5e5-ee9a-4665-f140-a0857be39390",
        "colab": {
          "base_uri": "https://localhost:8080/"
        }
      },
      "source": [
        "# Compute the observed difference in click through rates\n",
        "obs_diff = experiment_ctr - control_ctr\n",
        "\n",
        "# Display observed difference\n",
        "obs_diff"
      ],
      "execution_count": 5,
      "outputs": [
        {
          "output_type": "execute_result",
          "data": {
            "text/plain": [
              "0.030425416926986526"
            ]
          },
          "metadata": {
            "tags": []
          },
          "execution_count": 5
        }
      ]
    },
    {
      "cell_type": "code",
      "metadata": {
        "id": "wDQBIwca0h1V"
      },
      "source": [
        "# Create a sampling distribution of the difference in proportions\n",
        "# with bootstrapping\n",
        "diffs = []\n",
        "size = df.shape[0]\n",
        "for _ in range(10000):\n",
        "    b_samp = df.sample(size, replace=True)\n",
        "    control_df = b_samp.query('group == \"control\"')\n",
        "    experiment_df = b_samp.query('group == \"experiment\"')\n",
        "    control_ctr = control_df.query('action == \"enroll\"').id.nunique() / control_df.query('action == \"view\"').id.nunique()\n",
        "    experiment_ctr = experiment_df.query('action == \"enroll\"').id.nunique() / experiment_df.query('action == \"view\"').id.nunique()\n",
        "    diffs.append(experiment_ctr - control_ctr)"
      ],
      "execution_count": 6,
      "outputs": []
    },
    {
      "cell_type": "code",
      "metadata": {
        "id": "LSP4sYrK0kUX",
        "outputId": "61bfbc5b-76f6-4047-9071-bb3e7242f656",
        "colab": {
          "base_uri": "https://localhost:8080/",
          "height": 265
        }
      },
      "source": [
        "# Convert to numpy array\n",
        "diffs = np.array(diffs)\n",
        "\n",
        "# Plot sampling distribution\n",
        "plt.hist(diffs);"
      ],
      "execution_count": 7,
      "outputs": [
        {
          "output_type": "display_data",
          "data": {
            "image/png": "[encoded data removed]",
            "text/plain": [
              "<Figure size 432x288 with 1 Axes>"
            ]
          },
          "metadata": {
            "tags": [],
            "needs_background": "light"
          }
        }
      ]
    },
    {
      "cell_type": "code",
      "metadata": {
        "id": "PMG815CX0maQ",
        "outputId": "ae60795e-7a46-4b67-df66-2a73547e5f39",
        "colab": {
          "base_uri": "https://localhost:8080/",
          "height": 265
        }
      },
      "source": [
        "# Simulate distribution under the null hypothesis\n",
        "null_vals = np.random.normal(0, diffs.std(), diffs.size)\n",
        "\n",
        "# Plot the null distribution\n",
        "plt.hist(null_vals);"
      ],
      "execution_count": 8,
      "outputs": [
        {
          "output_type": "display_data",
          "data": {
            "image/png": "[encoded data removed]",
            "text/plain": [
              "<Figure size 432x288 with 1 Axes>"
            ]
          },
          "metadata": {
            "tags": [],
            "needs_background": "light"
          }
        }
      ]
    },
    {
      "cell_type": "code",
      "metadata": {
        "id": "iSEeIgHr0okL",
        "outputId": "1ccf09c0-510c-43f1-b267-1b44a0822e94",
        "colab": {
          "base_uri": "https://localhost:8080/",
          "height": 282
        }
      },
      "source": [
        "# Plot observed statistic with the null distibution\n",
        "plt.hist(null_vals);\n",
        "plt.axvline(obs_diff, c='red')"
      ],
      "execution_count": 9,
      "outputs": [
        {
          "output_type": "execute_result",
          "data": {
            "text/plain": [
              "<matplotlib.lines.Line2D at 0x7fe3c6d593c8>"
            ]
          },
          "metadata": {
            "tags": []
          },
          "execution_count": 9
        },
        {
          "output_type": "display_data",
          "data": {
            "image/png": "[encoded data removed]",
            "text/plain": [
              "<Figure size 432x288 with 1 Axes>"
            ]
          },
          "metadata": {
            "tags": [],
            "needs_background": "light"
          }
        }
      ]
    },
    {
      "cell_type": "code",
      "metadata": {
        "id": "nJOVODWv0rf_",
        "outputId": "964f41d2-c0ac-49de-a584-0946a5058fc5",
        "colab": {
          "base_uri": "https://localhost:8080/"
        }
      },
      "source": [
        "# Compute p-value\n",
        "(null_vals > obs_diff).mean()"
      ],
      "execution_count": 10,
      "outputs": [
        {
          "output_type": "execute_result",
          "data": {
            "text/plain": [
              "0.0188"
            ]
          },
          "metadata": {
            "tags": []
          },
          "execution_count": 10
        }
      ]
    }
  ]
}