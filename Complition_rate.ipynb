{
  "nbformat": 4,
  "nbformat_minor": 0,
  "metadata": {
    "colab": {
      "name": "Complition_rate.ipynb",
      "provenance": [],
      "authorship_tag": "ABX9TyMBL7qrftSFSYrNuQxUzDe2",
      "include_colab_link": true
    },
    "kernelspec": {
      "name": "python3",
      "display_name": "Python 3"
    }
  },
  "cells": [
    {
      "cell_type": "markdown",
      "metadata": {
        "id": "view-in-github",
        "colab_type": "text"
      },
      "source": [
        "<a href=\"https://colab.research.google.com/github/gsush/Data_analyst_udacity/blob/main/Complition_rate.ipynb\" target=\"_parent\"><img src=\"https://colab.research.google.com/assets/colab-badge.svg\" alt=\"Open In Colab\"/></a>"
      ]
    },
    {
      "cell_type": "code",
      "metadata": {
        "id": "n0-GLthMwXXC"
      },
      "source": [
        "\n",
        "import numpy as np\n",
        "import pandas as pd\n",
        "import matplotlib.pyplot as plt\n",
        "% matplotlib inline\n",
        "\n",
        "np.random.seed(42)"
      ],
      "execution_count": 1,
      "outputs": []
    },
    {
      "cell_type": "code",
      "metadata": {
        "id": "wx_mv2jyxJRb",
        "outputId": "f8a086ad-c2c8-4c07-bff0-15e294e8fcb5",
        "colab": {
          "base_uri": "https://localhost:8080/",
          "height": 204
        }
      },
      "source": [
        "url = 'https://raw.githubusercontent.com/MarwaQabeel/Udacity-Data-Analyst-Nanodegree/master/Case%20Study-AB%20Test/Data/classroom_actions.csv'\n",
        "df = pd.read_csv(url)\n",
        "df.head()"
      ],
      "execution_count": 3,
      "outputs": [
        {
          "output_type": "execute_result",
          "data": {
            "text/html": [
              "<div>\n",
              "<style scoped>\n",
              "    .dataframe tbody tr th:only-of-type {\n",
              "        vertical-align: middle;\n",
              "    }\n",
              "\n",
              "    .dataframe tbody tr th {\n",
              "        vertical-align: top;\n",
              "    }\n",
              "\n",
              "    .dataframe thead th {\n",
              "        text-align: right;\n",
              "    }\n",
              "</style>\n",
              "<table border=\"1\" class=\"dataframe\">\n",
              "  <thead>\n",
              "    <tr style=\"text-align: right;\">\n",
              "      <th></th>\n",
              "      <th>timestamp</th>\n",
              "      <th>id</th>\n",
              "      <th>group</th>\n",
              "      <th>total_days</th>\n",
              "      <th>completed</th>\n",
              "    </tr>\n",
              "  </thead>\n",
              "  <tbody>\n",
              "    <tr>\n",
              "      <th>0</th>\n",
              "      <td>2015-08-10 17:06:01.032740</td>\n",
              "      <td>610019</td>\n",
              "      <td>experiment</td>\n",
              "      <td>97</td>\n",
              "      <td>True</td>\n",
              "    </tr>\n",
              "    <tr>\n",
              "      <th>1</th>\n",
              "      <td>2015-08-10 17:15:28.950975</td>\n",
              "      <td>690224</td>\n",
              "      <td>control</td>\n",
              "      <td>75</td>\n",
              "      <td>False</td>\n",
              "    </tr>\n",
              "    <tr>\n",
              "      <th>2</th>\n",
              "      <td>2015-08-10 17:34:40.920384</td>\n",
              "      <td>564994</td>\n",
              "      <td>experiment</td>\n",
              "      <td>128</td>\n",
              "      <td>True</td>\n",
              "    </tr>\n",
              "    <tr>\n",
              "      <th>3</th>\n",
              "      <td>2015-08-10 17:50:39.847374</td>\n",
              "      <td>849588</td>\n",
              "      <td>experiment</td>\n",
              "      <td>66</td>\n",
              "      <td>False</td>\n",
              "    </tr>\n",
              "    <tr>\n",
              "      <th>4</th>\n",
              "      <td>2015-08-10 19:10:40.650599</td>\n",
              "      <td>849826</td>\n",
              "      <td>experiment</td>\n",
              "      <td>34</td>\n",
              "      <td>False</td>\n",
              "    </tr>\n",
              "  </tbody>\n",
              "</table>\n",
              "</div>"
            ],
            "text/plain": [
              "                    timestamp      id       group  total_days  completed\n",
              "0  2015-08-10 17:06:01.032740  610019  experiment          97       True\n",
              "1  2015-08-10 17:15:28.950975  690224     control          75      False\n",
              "2  2015-08-10 17:34:40.920384  564994  experiment         128       True\n",
              "3  2015-08-10 17:50:39.847374  849588  experiment          66      False\n",
              "4  2015-08-10 19:10:40.650599  849826  experiment          34      False"
            ]
          },
          "metadata": {
            "tags": []
          },
          "execution_count": 3
        }
      ]
    },
    {
      "cell_type": "code",
      "metadata": {
        "id": "IxBgxgIHxk7F",
        "outputId": "d05a1981-c7f3-4602-d8de-053149df10eb",
        "colab": {
          "base_uri": "https://localhost:8080/"
        }
      },
      "source": [
        "\n",
        "# Create dataframe with all control records\n",
        "control_df = df.query('group == \"control\"')\n",
        "\n",
        "# Compute completion rate\n",
        "control_ctr = control_df['completed'].mean()\n",
        "\n",
        "# Display control complete rate\n",
        "control_ctr"
      ],
      "execution_count": 4,
      "outputs": [
        {
          "output_type": "execute_result",
          "data": {
            "text/plain": [
              "0.3719951923076923"
            ]
          },
          "metadata": {
            "tags": []
          },
          "execution_count": 4
        }
      ]
    },
    {
      "cell_type": "code",
      "metadata": {
        "id": "en33_Cfdxt32",
        "outputId": "133d92ac-e85a-47fa-abed-8d46a24f3e3c",
        "colab": {
          "base_uri": "https://localhost:8080/"
        }
      },
      "source": [
        "# Create dataframe with all experiment records\n",
        "experiment_df = df.query('group == \"experiment\"')\n",
        "\n",
        "# Compute completion rate\n",
        "experiment_ctr = experiment_df['completed'].mean()\n",
        "\n",
        "# Display experiment complete rate\n",
        "experiment_ctr"
      ],
      "execution_count": 5,
      "outputs": [
        {
          "output_type": "execute_result",
          "data": {
            "text/plain": [
              "0.3935334872979215"
            ]
          },
          "metadata": {
            "tags": []
          },
          "execution_count": 5
        }
      ]
    },
    {
      "cell_type": "code",
      "metadata": {
        "id": "8QnWY01Ixytu",
        "outputId": "c8ecbded-f101-428b-ec25-eaa4135bc92d",
        "colab": {
          "base_uri": "https://localhost:8080/"
        }
      },
      "source": [
        "# Compute observed difference in completion rates\n",
        "obs_diff = experiment_ctr - control_ctr\n",
        "\n",
        "# Display observed difference in completion rates\n",
        "obs_diff"
      ],
      "execution_count": 6,
      "outputs": [
        {
          "output_type": "execute_result",
          "data": {
            "text/plain": [
              "0.02153829499022919"
            ]
          },
          "metadata": {
            "tags": []
          },
          "execution_count": 6
        }
      ]
    },
    {
      "cell_type": "code",
      "metadata": {
        "id": "wjZY7-Fkx30S"
      },
      "source": [
        "# Create sampling distribution for difference in completion rates\n",
        "# with boostrapping\n",
        "diffs = []\n",
        "size = df.shape[0]\n",
        "for _ in range(10000):\n",
        "    b_samp = df.sample(size, replace=True)\n",
        "    control_df = b_samp.query('group == \"control\"')\n",
        "    experiment_df = b_samp.query('group == \"experiment\"')\n",
        "    control_ctr = control_df['completed'].mean()\n",
        "    experiment_ctr = experiment_df['completed'].mean()\n",
        "    diffs.append(experiment_ctr - control_ctr)\n"
      ],
      "execution_count": 7,
      "outputs": []
    },
    {
      "cell_type": "code",
      "metadata": {
        "id": "e58rTY5ex7Q8"
      },
      "source": [
        "# convert to numpy array\n",
        "diffs = np.array(diffs)"
      ],
      "execution_count": 8,
      "outputs": []
    },
    {
      "cell_type": "code",
      "metadata": {
        "id": "Ck_AhYPQypcb",
        "outputId": "8f40257d-8c4c-4b01-bee4-ae3b4dbb822d",
        "colab": {
          "base_uri": "https://localhost:8080/",
          "height": 265
        }
      },
      "source": [
        "# plot distribution\n",
        "plt.hist(diffs);"
      ],
      "execution_count": 9,
      "outputs": [
        {
          "output_type": "display_data",
          "data": {
            "image/png": "[encoded data removed]",
            "text/plain": [
              "<Figure size 432x288 with 1 Axes>"
            ]
          },
          "metadata": {
            "tags": [],
            "needs_background": "light"
          }
        }
      ]
    },
    {
      "cell_type": "code",
      "metadata": {
        "id": "zWZfCx2Pysx1"
      },
      "source": [
        "# create distribution under the null hypothesis\n",
        "null_vals = np.random.normal(0, diffs.std(), diffs.size)"
      ],
      "execution_count": 10,
      "outputs": []
    },
    {
      "cell_type": "code",
      "metadata": {
        "id": "ok_KywfNyxn_",
        "outputId": "c2b02ebb-4949-4095-907d-188eb6066a84",
        "colab": {
          "base_uri": "https://localhost:8080/",
          "height": 265
        }
      },
      "source": [
        "# plot null distribution\n",
        "plt.hist(null_vals);\n",
        "\n",
        "# plot line for observed statistic\n",
        "plt.axvline(obs_diff, c='red');"
      ],
      "execution_count": 11,
      "outputs": [
        {
          "output_type": "display_data",
          "data": {
            "image/png": "[encoded data removed]",
            "text/plain": [
              "<Figure size 432x288 with 1 Axes>"
            ]
          },
          "metadata": {
            "tags": [],
            "needs_background": "light"
          }
        }
      ]
    },
    {
      "cell_type": "code",
      "metadata": {
        "id": "mbm_IkWEy0fe",
        "outputId": "9094c447-0e4d-45d5-ccff-60b633a12bb3",
        "colab": {
          "base_uri": "https://localhost:8080/"
        }
      },
      "source": [
        "# compute p value\n",
        "(null_vals > obs_diff).mean()"
      ],
      "execution_count": 12,
      "outputs": [
        {
          "output_type": "execute_result",
          "data": {
            "text/plain": [
              "0.0846"
            ]
          },
          "metadata": {
            "tags": []
          },
          "execution_count": 12
        }
      ]
    }
  ]
}